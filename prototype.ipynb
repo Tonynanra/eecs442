{
 "cells": [
  {
   "cell_type": "code",
   "execution_count": null,
   "metadata": {},
   "outputs": [],
   "source": [
    "from torchvision.io import read_image\n",
    "from torchvision.utils import save_image\n",
    "import matplotlib.pyplot as plt\n",
    "import numpy as np\n",
    "from torch.utils.data import Subset\n",
    "from generator import generator\n",
    "import torch\n",
    "import pickle\n",
    "from dataset import PixelSceneryDataset"
   ]
  },
  {
   "cell_type": "code",
   "execution_count": null,
   "metadata": {},
   "outputs": [],
   "source": [
    "Train_Dir_live=\"imagenet/\"\n",
    "Train_Dir_pix=\"pixel/\"\n",
    "\n",
    "#setting up dataset\n",
    "dataset = PixelSceneryDataset(\n",
    "        root_scenery=Train_Dir_live,\n",
    "        root_pixel=Train_Dir_pix,\n",
    "        \n",
    ")\n",
    "\n",
    "with open('train_subset.pkl', 'rb') as f:\n",
    "        train_indices = pickle.load(f)\n",
    "\n",
    "with open('val_subset.pkl', 'rb') as f:\n",
    "        val_indices = pickle.load(f)\n",
    "\n",
    "train_dataset = Subset(dataset, train_indices)\n",
    "val_dataset = Subset(dataset, val_indices)"
   ]
  },
  {
   "cell_type": "code",
   "execution_count": null,
   "metadata": {},
   "outputs": [],
   "source": [
    "checkpoint = torch.load('train_result.pth')\n",
    "G_live = generator()\n",
    "G_live.load_state_dict(checkpoint['G_live_state_dict'])\n",
    "G_pix = generator()\n",
    "G_pix.load_state_dict(checkpoint['G_pix_state_dict'])\n"
   ]
  },
  {
   "cell_type": "code",
   "execution_count": null,
   "metadata": {},
   "outputs": [],
   "source": [
    "pixel, scenery = val_dataset[10]"
   ]
  },
  {
   "cell_type": "code",
   "execution_count": null,
   "metadata": {},
   "outputs": [],
   "source": [
    "plt.imshow(np.moveaxis(scenery.numpy(), 0, -1))"
   ]
  },
  {
   "cell_type": "code",
   "execution_count": null,
   "metadata": {},
   "outputs": [],
   "source": [
    "save_image(G_pix(scenery[None,...]) * 0.5 + 0.5, 'live_gen.png')"
   ]
  },
  {
   "cell_type": "code",
   "execution_count": null,
   "metadata": {},
   "outputs": [],
   "source": []
  }
 ],
 "metadata": {
  "kernelspec": {
   "display_name": "Python 3",
   "language": "python",
   "name": "python3"
  },
  "language_info": {
   "codemirror_mode": {
    "name": "ipython",
    "version": 3
   },
   "file_extension": ".py",
   "mimetype": "text/x-python",
   "name": "python",
   "nbconvert_exporter": "python",
   "pygments_lexer": "ipython3",
   "version": "3.11.8"
  }
 },
 "nbformat": 4,
 "nbformat_minor": 2
}
