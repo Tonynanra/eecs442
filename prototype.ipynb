{
 "cells": [
  {
   "cell_type": "code",
   "execution_count": 1,
   "metadata": {},
   "outputs": [],
   "source": [
    "from torchvision.io import read_image\n",
    "from torchvision.utils import save_image\n",
    "import matplotlib.pyplot as plt\n",
    "import numpy as np\n",
    "from torch.utils.data import Subset\n",
    "import torch\n",
    "import pickle\n",
    "from generator import generator, gen_with_attn\n",
    "from dataset import PixelSceneryDataset\n",
    "from torchsummary import summary\n",
    "%load_ext autoreload\n",
    "%autoreload 2"
   ]
  },
  {
   "cell_type": "code",
   "execution_count": null,
   "metadata": {},
   "outputs": [],
   "source": [
    "Train_Dir_live=\"imagenet/\"\n",
    "Train_Dir_pix=\"pixel/\"\n",
    "\n",
    "#setting up dataset\n",
    "dataset = PixelSceneryDataset(\n",
    "        root_scenery=Train_Dir_live,\n",
    "        root_pixel=Train_Dir_pix,\n",
    "        \n",
    ")\n",
    "\n",
    "with open('train_subset.pkl', 'rb') as f:\n",
    "        train_indices = pickle.load(f)\n",
    "\n",
    "with open('val_subset.pkl', 'rb') as f:\n",
    "        val_indices = pickle.load(f)\n",
    "\n",
    "train_dataset = Subset(dataset, train_indices)\n",
    "val_dataset = Subset(dataset, val_indices)"
   ]
  },
  {
   "cell_type": "code",
   "execution_count": 2,
   "metadata": {},
   "outputs": [
    {
     "name": "stdout",
     "output_type": "stream",
     "text": [
      "----------------------------------------------------------------\n",
      "        Layer (type)               Output Shape         Param #\n",
      "================================================================\n",
      "            Conv2d-1         [-1, 64, 128, 128]           3,136\n",
      "            Conv2d-2          [-1, 128, 64, 64]         131,200\n",
      "       BatchNorm2d-3          [-1, 128, 64, 64]             256\n",
      "            Conv2d-4          [-1, 256, 32, 32]         524,544\n",
      "       BatchNorm2d-5          [-1, 256, 32, 32]             512\n",
      "            Conv2d-6          [-1, 512, 16, 16]       2,097,664\n",
      "       BatchNorm2d-7          [-1, 512, 16, 16]           1,024\n",
      "            Conv2d-8            [-1, 512, 8, 8]       4,194,816\n",
      "       BatchNorm2d-9            [-1, 512, 8, 8]           1,024\n",
      "           Conv2d-10            [-1, 512, 4, 4]       4,194,816\n",
      "      BatchNorm2d-11            [-1, 512, 4, 4]           1,024\n",
      "           Conv2d-12            [-1, 512, 2, 2]       4,194,816\n",
      "      BatchNorm2d-13            [-1, 512, 2, 2]           1,024\n",
      "           Conv2d-14            [-1, 512, 1, 1]       4,194,816\n",
      "  ConvTranspose2d-15            [-1, 512, 2, 2]       4,194,816\n",
      "      BatchNorm2d-16            [-1, 512, 2, 2]           1,024\n",
      "  ConvTranspose2d-17            [-1, 512, 4, 4]       8,389,120\n",
      "      BatchNorm2d-18            [-1, 512, 4, 4]           1,024\n",
      "  ConvTranspose2d-19            [-1, 512, 8, 8]       8,389,120\n",
      "      BatchNorm2d-20            [-1, 512, 8, 8]           1,024\n",
      "  ConvTranspose2d-21          [-1, 512, 16, 16]       8,389,120\n",
      "      BatchNorm2d-22          [-1, 512, 16, 16]           1,024\n",
      "  ConvTranspose2d-23          [-1, 256, 32, 32]       4,194,560\n",
      "      BatchNorm2d-24          [-1, 256, 32, 32]             512\n",
      "  ConvTranspose2d-25          [-1, 128, 64, 64]       1,048,704\n",
      "      BatchNorm2d-26          [-1, 128, 64, 64]             256\n",
      "  ConvTranspose2d-27         [-1, 64, 128, 128]         262,208\n",
      "      BatchNorm2d-28         [-1, 64, 128, 128]             128\n",
      "  ConvTranspose2d-29          [-1, 3, 256, 256]           6,147\n",
      "================================================================\n",
      "Total params: 54,419,459\n",
      "Trainable params: 54,419,459\n",
      "Non-trainable params: 0\n",
      "----------------------------------------------------------------\n",
      "Input size (MB): 0.75\n",
      "Forward/backward pass size (MB): 54.82\n",
      "Params size (MB): 207.59\n",
      "Estimated Total Size (MB): 263.16\n",
      "----------------------------------------------------------------\n"
     ]
    }
   ],
   "source": [
    "G_live = generator()\n",
    "summary(G_live, (3, 256, 256), device='cpu')"
   ]
  },
  {
   "cell_type": "code",
   "execution_count": 17,
   "metadata": {},
   "outputs": [
    {
     "name": "stdout",
     "output_type": "stream",
     "text": [
      "----------------------------------------------------------------\n",
      "        Layer (type)               Output Shape         Param #\n",
      "================================================================\n",
      "            Conv2d-1         [-1, 64, 128, 128]           3,136\n",
      "       BatchNorm2d-2         [-1, 64, 128, 128]             128\n",
      "         LeakyReLU-3         [-1, 64, 128, 128]               0\n",
      "            Conv2d-4          [-1, 128, 64, 64]         131,200\n",
      "       BatchNorm2d-5          [-1, 128, 64, 64]             256\n",
      "         LeakyReLU-6          [-1, 128, 64, 64]               0\n",
      "          ConvDown-7          [-1, 128, 64, 64]               0\n",
      "            Conv2d-8          [-1, 128, 64, 64]         147,584\n",
      "       BatchNorm2d-9          [-1, 128, 64, 64]             256\n",
      "             ReLU-10          [-1, 128, 64, 64]               0\n",
      "           Conv2d-11          [-1, 128, 64, 64]         147,584\n",
      "      BatchNorm2d-12          [-1, 128, 64, 64]             256\n",
      "             ReLU-13          [-1, 128, 64, 64]               0\n",
      "    residualBlock-14          [-1, 128, 64, 64]               0\n",
      "           Conv2d-15          [-1, 128, 64, 64]         147,584\n",
      "      BatchNorm2d-16          [-1, 128, 64, 64]             256\n",
      "             ReLU-17          [-1, 128, 64, 64]               0\n",
      "           Conv2d-18          [-1, 128, 64, 64]         147,584\n",
      "      BatchNorm2d-19          [-1, 128, 64, 64]             256\n",
      "             ReLU-20          [-1, 128, 64, 64]               0\n",
      "    residualBlock-21          [-1, 128, 64, 64]               0\n",
      "           Conv2d-22          [-1, 128, 64, 64]         147,584\n",
      "      BatchNorm2d-23          [-1, 128, 64, 64]             256\n",
      "             ReLU-24          [-1, 128, 64, 64]               0\n",
      "           Conv2d-25          [-1, 128, 64, 64]         147,584\n",
      "      BatchNorm2d-26          [-1, 128, 64, 64]             256\n",
      "             ReLU-27          [-1, 128, 64, 64]               0\n",
      "    residualBlock-28          [-1, 128, 64, 64]               0\n",
      "           Conv2d-29          [-1, 128, 64, 64]         147,584\n",
      "      BatchNorm2d-30          [-1, 128, 64, 64]             256\n",
      "             ReLU-31          [-1, 128, 64, 64]               0\n",
      "           Conv2d-32          [-1, 128, 64, 64]         147,584\n",
      "      BatchNorm2d-33          [-1, 128, 64, 64]             256\n",
      "             ReLU-34          [-1, 128, 64, 64]               0\n",
      "    residualBlock-35          [-1, 128, 64, 64]               0\n",
      "           Conv2d-36          [-1, 128, 64, 64]         147,584\n",
      "      BatchNorm2d-37          [-1, 128, 64, 64]             256\n",
      "             ReLU-38          [-1, 128, 64, 64]               0\n",
      "           Conv2d-39          [-1, 128, 64, 64]         147,584\n",
      "      BatchNorm2d-40          [-1, 128, 64, 64]             256\n",
      "             ReLU-41          [-1, 128, 64, 64]               0\n",
      "    residualBlock-42          [-1, 128, 64, 64]               0\n",
      "           Conv2d-43          [-1, 128, 64, 64]         147,584\n",
      "      BatchNorm2d-44          [-1, 128, 64, 64]             256\n",
      "             ReLU-45          [-1, 128, 64, 64]               0\n",
      "           Conv2d-46          [-1, 128, 64, 64]         147,584\n",
      "      BatchNorm2d-47          [-1, 128, 64, 64]             256\n",
      "             ReLU-48          [-1, 128, 64, 64]               0\n",
      "    residualBlock-49          [-1, 128, 64, 64]               0\n",
      "  ConvTranspose2d-50         [-1, 64, 128, 128]         262,208\n",
      "      BatchNorm2d-51         [-1, 64, 128, 128]             128\n",
      "             ReLU-52         [-1, 64, 128, 128]               0\n",
      "           ConvUp-53         [-1, 64, 128, 128]               0\n",
      "  ConvTranspose2d-54          [-1, 3, 256, 256]           6,147\n",
      "================================================================\n",
      "Total params: 2,177,283\n",
      "Trainable params: 2,177,283\n",
      "Non-trainable params: 0\n",
      "----------------------------------------------------------------\n",
      "Input size (MB): 0.75\n",
      "Forward/backward pass size (MB): 241.50\n",
      "Params size (MB): 8.31\n",
      "Estimated Total Size (MB): 250.56\n",
      "----------------------------------------------------------------\n"
     ]
    }
   ],
   "source": [
    "G_new = gen_with_attn()\n",
    "summary(G_new, (3, 256, 256), device='cpu')"
   ]
  },
  {
   "cell_type": "code",
   "execution_count": null,
   "metadata": {},
   "outputs": [],
   "source": [
    "checkpoint = torch.load('train_result.pth')\n",
    "G_live = generator()\n",
    "G_live.load_state_dict(checkpoint['G_live_state_dict'])\n",
    "G_pix = generator()\n",
    "G_pix.load_state_dict(checkpoint['G_pix_state_dict'])\n"
   ]
  },
  {
   "cell_type": "code",
   "execution_count": null,
   "metadata": {},
   "outputs": [],
   "source": [
    "pixel, scenery = val_dataset[135]"
   ]
  },
  {
   "cell_type": "code",
   "execution_count": null,
   "metadata": {},
   "outputs": [],
   "source": [
    "plt.imshow(np.moveaxis(scenery.numpy(), 0, -1))"
   ]
  },
  {
   "cell_type": "code",
   "execution_count": null,
   "metadata": {},
   "outputs": [],
   "source": [
    "save_image(G_pix(scenery[None,...]) * 0.5 + 0.5, 'live_gen.png')"
   ]
  },
  {
   "cell_type": "code",
   "execution_count": null,
   "metadata": {},
   "outputs": [],
   "source": []
  }
 ],
 "metadata": {
  "kernelspec": {
   "display_name": "Python 3",
   "language": "python",
   "name": "python3"
  },
  "language_info": {
   "codemirror_mode": {
    "name": "ipython",
    "version": 3
   },
   "file_extension": ".py",
   "mimetype": "text/x-python",
   "name": "python",
   "nbconvert_exporter": "python",
   "pygments_lexer": "ipython3",
   "version": "3.11.8"
  }
 },
 "nbformat": 4,
 "nbformat_minor": 2
}
